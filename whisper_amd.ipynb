{
 "cells": [
  {
   "cell_type": "markdown",
   "metadata": {},
   "source": [
    "[rocm installation](https://rocm.docs.amd.com/projects/install-on-linux/en/latest/tutorial/quick-start.html#rocm-install-quick)"
   ]
  },
  {
   "cell_type": "markdown",
   "metadata": {},
   "source": [
    "[amd instruction](https://rocm.blogs.amd.com/artificial-intelligence/whisper/README.html)"
   ]
  },
  {
   "cell_type": "code",
   "execution_count": 20,
   "metadata": {},
   "outputs": [],
   "source": [
    "import os\n",
    "import random\n",
    "import time\n",
    "\n",
    "import whisper"
   ]
  },
  {
   "cell_type": "code",
   "execution_count": 21,
   "metadata": {},
   "outputs": [],
   "source": [
    "model = whisper.load_model(\"medium\")\n",
    "\n",
    "\n",
    "def transcribe(filepath):\n",
    "  transcription = model.transcribe(filepath, fp16=False)\n",
    "  return transcription[\"language\"], transcription[\"text\"]"
   ]
  },
  {
   "cell_type": "code",
   "execution_count": 22,
   "metadata": {},
   "outputs": [
    {
     "name": "stdout",
     "output_type": "stream",
     "text": [
      "FILE: ./calls/1713827210301_60163854158_601137395205.wav\n",
      "25.37876033782959\n",
      "en\n",
      " Your verification code is 698370. Your verification code is 698370.\n"
     ]
    }
   ],
   "source": [
    "FILES_DIR = \"./calls\"\n",
    "\n",
    "files = [os.path.join(FILES_DIR, file) for file in os.listdir(FILES_DIR)]\n",
    "random_file = random.choice(files)\n",
    "\n",
    "print(f\"FILE: {random_file}\")\n",
    "start_time = time.time()\n",
    "\n",
    "language, result = transcribe(random_file)\n",
    "\n",
    "print(time.time() - start_time)\n",
    "\n",
    "print(language)\n",
    "print(result)"
   ]
  }
 ],
 "metadata": {
  "kernelspec": {
   "display_name": "venv",
   "language": "python",
   "name": "python3"
  },
  "language_info": {
   "codemirror_mode": {
    "name": "ipython",
    "version": 3
   },
   "file_extension": ".py",
   "mimetype": "text/x-python",
   "name": "python",
   "nbconvert_exporter": "python",
   "pygments_lexer": "ipython3",
   "version": "3.11.2"
  }
 },
 "nbformat": 4,
 "nbformat_minor": 2
}
